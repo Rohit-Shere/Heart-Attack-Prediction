{
 "cells": [
  {
   "cell_type": "code",
   "execution_count": 2,
   "id": "3576e3a1",
   "metadata": {},
   "outputs": [],
   "source": [
    "import pandas as pd \n",
    "import numpy as np \n",
    "import joblib\n"
   ]
  },
  {
   "cell_type": "code",
   "execution_count": 6,
   "id": "dfc9460d",
   "metadata": {},
   "outputs": [],
   "source": [
    "model=joblib.load('../models/model_rf.pkl')"
   ]
  },
  {
   "cell_type": "code",
   "execution_count": 7,
   "id": "2cf6fd91",
   "metadata": {},
   "outputs": [],
   "source": [
    "df=pd.read_csv('../User_input/ui_1.csv')"
   ]
  },
  {
   "cell_type": "code",
   "execution_count": 8,
   "id": "4cdca98b",
   "metadata": {},
   "outputs": [
    {
     "data": {
      "text/html": [
       "<div>\n",
       "<style scoped>\n",
       "    .dataframe tbody tr th:only-of-type {\n",
       "        vertical-align: middle;\n",
       "    }\n",
       "\n",
       "    .dataframe tbody tr th {\n",
       "        vertical-align: top;\n",
       "    }\n",
       "\n",
       "    .dataframe thead th {\n",
       "        text-align: right;\n",
       "    }\n",
       "</style>\n",
       "<table border=\"1\" class=\"dataframe\">\n",
       "  <thead>\n",
       "    <tr style=\"text-align: right;\">\n",
       "      <th></th>\n",
       "      <th>Unnamed: 0</th>\n",
       "      <th>Age</th>\n",
       "      <th>Gender</th>\n",
       "      <th>Region</th>\n",
       "      <th>Urban/Rural</th>\n",
       "      <th>SES</th>\n",
       "      <th>Smoking Status</th>\n",
       "      <th>Alcohol Consumption</th>\n",
       "      <th>Diet Type</th>\n",
       "      <th>Physical Activity Level</th>\n",
       "      <th>...</th>\n",
       "      <th>BMI (kg/m²)</th>\n",
       "      <th>Stress Level</th>\n",
       "      <th>Resting Heart Rate (bpm)</th>\n",
       "      <th>ECG Results</th>\n",
       "      <th>Chest Pain Type</th>\n",
       "      <th>Maximum Heart Rate Achieved</th>\n",
       "      <th>Exercise Induced Angina</th>\n",
       "      <th>Blood Oxygen Levels (SpO2%)</th>\n",
       "      <th>Triglyceride Levels (mg/dL)</th>\n",
       "      <th>Pluse Pressure</th>\n",
       "    </tr>\n",
       "  </thead>\n",
       "  <tbody>\n",
       "    <tr>\n",
       "      <th>0</th>\n",
       "      <td>0</td>\n",
       "      <td>25</td>\n",
       "      <td>Male</td>\n",
       "      <td>West</td>\n",
       "      <td>Urban</td>\n",
       "      <td>High</td>\n",
       "      <td>Regularly</td>\n",
       "      <td>Occasionally</td>\n",
       "      <td>Non-Vegetarian</td>\n",
       "      <td>High</td>\n",
       "      <td>...</td>\n",
       "      <td>24.0</td>\n",
       "      <td>High</td>\n",
       "      <td>70</td>\n",
       "      <td>Abnormal</td>\n",
       "      <td>Atypical</td>\n",
       "      <td>150</td>\n",
       "      <td>Yes</td>\n",
       "      <td>80</td>\n",
       "      <td>500</td>\n",
       "      <td>-74</td>\n",
       "    </tr>\n",
       "  </tbody>\n",
       "</table>\n",
       "<p>1 rows × 26 columns</p>\n",
       "</div>"
      ],
      "text/plain": [
       "   Unnamed: 0  Age Gender Region Urban/Rural   SES Smoking Status  \\\n",
       "0           0   25   Male   West       Urban  High      Regularly   \n",
       "\n",
       "  Alcohol Consumption       Diet Type Physical Activity Level  ...  \\\n",
       "0        Occasionally  Non-Vegetarian                    High  ...   \n",
       "\n",
       "   BMI (kg/m²)  Stress Level Resting Heart Rate (bpm) ECG Results  \\\n",
       "0         24.0          High                       70    Abnormal   \n",
       "\n",
       "  Chest Pain Type  Maximum Heart Rate Achieved  Exercise Induced Angina  \\\n",
       "0        Atypical                          150                      Yes   \n",
       "\n",
       "  Blood Oxygen Levels (SpO2%)  Triglyceride Levels (mg/dL) Pluse Pressure  \n",
       "0                          80                          500            -74  \n",
       "\n",
       "[1 rows x 26 columns]"
      ]
     },
     "execution_count": 8,
     "metadata": {},
     "output_type": "execute_result"
    }
   ],
   "source": [
    "df"
   ]
  },
  {
   "cell_type": "code",
   "execution_count": 9,
   "id": "9dd29419",
   "metadata": {},
   "outputs": [
    {
     "data": {
      "text/plain": [
       "array([0], dtype=int64)"
      ]
     },
     "execution_count": 9,
     "metadata": {},
     "output_type": "execute_result"
    }
   ],
   "source": [
    "model.predict(df)"
   ]
  },
  {
   "cell_type": "code",
   "execution_count": null,
   "id": "ea47aacb",
   "metadata": {},
   "outputs": [],
   "source": []
  }
 ],
 "metadata": {
  "kernelspec": {
   "display_name": "Python 3 (ipykernel)",
   "language": "python",
   "name": "python3"
  },
  "language_info": {
   "codemirror_mode": {
    "name": "ipython",
    "version": 3
   },
   "file_extension": ".py",
   "mimetype": "text/x-python",
   "name": "python",
   "nbconvert_exporter": "python",
   "pygments_lexer": "ipython3",
   "version": "3.9.13"
  }
 },
 "nbformat": 4,
 "nbformat_minor": 5
}
