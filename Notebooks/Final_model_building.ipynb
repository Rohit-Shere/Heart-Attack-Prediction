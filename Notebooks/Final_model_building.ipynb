{
 "cells": [
  {
   "cell_type": "code",
   "execution_count": 9,
   "id": "4bb30069",
   "metadata": {},
   "outputs": [],
   "source": [
    "import pandas as pd\n",
    "import numpy as np\n",
    "import matplotlib.pyplot as plt\n",
    "import seaborn as sns\n",
    "from sklearn.linear_model import LogisticRegression\n",
    "from sklearn.ensemble import RandomForestClassifier\n",
    "from sklearn.pipeline import Pipeline\n",
    "from sklearn.compose import ColumnTransformer\n",
    "from sklearn.preprocessing import OneHotEncoder, OrdinalEncoder, StandardScaler\n",
    "from sklearn.model_selection import train_test_split\n",
    "from sklearn.linear_model import LogisticRegression\n",
    "from sklearn.metrics import accuracy_score, classification_report\n",
    "from xgboost import XGBClassifier"
   ]
  },
  {
   "cell_type": "code",
   "execution_count": 14,
   "id": "2c517f62",
   "metadata": {},
   "outputs": [],
   "source": [
    "df=pd.read_csv(\"../training_data/featured_data.csv\")"
   ]
  },
  {
   "cell_type": "code",
   "execution_count": 15,
   "id": "acbfda0c",
   "metadata": {},
   "outputs": [],
   "source": [
    "df_1=df[df['Heart Attack Likelihood']=='Yes']\n",
    "df_0=df[df['Heart Attack Likelihood']=='No']"
   ]
  },
  {
   "cell_type": "code",
   "execution_count": 27,
   "id": "0ad8b2ab",
   "metadata": {
    "scrolled": true
   },
   "outputs": [
    {
     "name": "stdout",
     "output_type": "stream",
     "text": [
      "52988\n"
     ]
    }
   ],
   "source": [
    "df_0=df_0.sample(2000)\n",
    "print(df_1.size)"
   ]
  },
  {
   "cell_type": "code",
   "execution_count": 28,
   "id": "a1d8467a",
   "metadata": {},
   "outputs": [
    {
     "name": "stderr",
     "output_type": "stream",
     "text": [
      "C:\\Users\\Rohit Shere\\AppData\\Local\\Temp\\ipykernel_16308\\3496799659.py:2: FutureWarning: The frame.append method is deprecated and will be removed from pandas in a future version. Use pandas.concat instead.\n",
      "  df=df.append(df_1)\n"
     ]
    }
   ],
   "source": [
    "df=df_0\n",
    "df=df.append(df_1)"
   ]
  },
  {
   "cell_type": "code",
   "execution_count": 29,
   "id": "f6e8de49",
   "metadata": {},
   "outputs": [
    {
     "data": {
      "text/html": [
       "<div>\n",
       "<style scoped>\n",
       "    .dataframe tbody tr th:only-of-type {\n",
       "        vertical-align: middle;\n",
       "    }\n",
       "\n",
       "    .dataframe tbody tr th {\n",
       "        vertical-align: top;\n",
       "    }\n",
       "\n",
       "    .dataframe thead th {\n",
       "        text-align: right;\n",
       "    }\n",
       "</style>\n",
       "<table border=\"1\" class=\"dataframe\">\n",
       "  <thead>\n",
       "    <tr style=\"text-align: right;\">\n",
       "      <th></th>\n",
       "      <th>Age</th>\n",
       "      <th>Gender</th>\n",
       "      <th>Region</th>\n",
       "      <th>Urban/Rural</th>\n",
       "      <th>SES</th>\n",
       "      <th>Smoking Status</th>\n",
       "      <th>Alcohol Consumption</th>\n",
       "      <th>Diet Type</th>\n",
       "      <th>Physical Activity Level</th>\n",
       "      <th>Screen Time (hrs/day)</th>\n",
       "      <th>...</th>\n",
       "      <th>Stress Level</th>\n",
       "      <th>Resting Heart Rate (bpm)</th>\n",
       "      <th>ECG Results</th>\n",
       "      <th>Chest Pain Type</th>\n",
       "      <th>Maximum Heart Rate Achieved</th>\n",
       "      <th>Exercise Induced Angina</th>\n",
       "      <th>Blood Oxygen Levels (SpO2%)</th>\n",
       "      <th>Triglyceride Levels (mg/dL)</th>\n",
       "      <th>Heart Attack Likelihood</th>\n",
       "      <th>Pluse Pressure</th>\n",
       "    </tr>\n",
       "  </thead>\n",
       "  <tbody>\n",
       "    <tr>\n",
       "      <th>6776</th>\n",
       "      <td>26</td>\n",
       "      <td>Female</td>\n",
       "      <td>Central</td>\n",
       "      <td>Urban</td>\n",
       "      <td>Middle</td>\n",
       "      <td>Never</td>\n",
       "      <td>Occasionally</td>\n",
       "      <td>Vegetarian</td>\n",
       "      <td>Sedentary</td>\n",
       "      <td>11</td>\n",
       "      <td>...</td>\n",
       "      <td>High</td>\n",
       "      <td>73</td>\n",
       "      <td>Normal</td>\n",
       "      <td>Typical</td>\n",
       "      <td>145</td>\n",
       "      <td>Yes</td>\n",
       "      <td>99.6</td>\n",
       "      <td>331</td>\n",
       "      <td>No</td>\n",
       "      <td>2.9</td>\n",
       "    </tr>\n",
       "    <tr>\n",
       "      <th>1446</th>\n",
       "      <td>32</td>\n",
       "      <td>Female</td>\n",
       "      <td>West</td>\n",
       "      <td>Urban</td>\n",
       "      <td>Low</td>\n",
       "      <td>Occasionally</td>\n",
       "      <td>Occasionally</td>\n",
       "      <td>Non-Vegetarian</td>\n",
       "      <td>Sedentary</td>\n",
       "      <td>1</td>\n",
       "      <td>...</td>\n",
       "      <td>High</td>\n",
       "      <td>87</td>\n",
       "      <td>Normal</td>\n",
       "      <td>Non-anginal</td>\n",
       "      <td>198</td>\n",
       "      <td>No</td>\n",
       "      <td>98.8</td>\n",
       "      <td>214</td>\n",
       "      <td>No</td>\n",
       "      <td>24.2</td>\n",
       "    </tr>\n",
       "    <tr>\n",
       "      <th>8305</th>\n",
       "      <td>23</td>\n",
       "      <td>Female</td>\n",
       "      <td>South</td>\n",
       "      <td>Urban</td>\n",
       "      <td>Low</td>\n",
       "      <td>Never</td>\n",
       "      <td>Never</td>\n",
       "      <td>Vegetarian</td>\n",
       "      <td>Sedentary</td>\n",
       "      <td>9</td>\n",
       "      <td>...</td>\n",
       "      <td>Low</td>\n",
       "      <td>92</td>\n",
       "      <td>Abnormal</td>\n",
       "      <td>Non-anginal</td>\n",
       "      <td>151</td>\n",
       "      <td>No</td>\n",
       "      <td>95.6</td>\n",
       "      <td>364</td>\n",
       "      <td>No</td>\n",
       "      <td>26.3</td>\n",
       "    </tr>\n",
       "    <tr>\n",
       "      <th>4183</th>\n",
       "      <td>21</td>\n",
       "      <td>Female</td>\n",
       "      <td>North-East</td>\n",
       "      <td>Rural</td>\n",
       "      <td>Low</td>\n",
       "      <td>Never</td>\n",
       "      <td>Never</td>\n",
       "      <td>Vegetarian</td>\n",
       "      <td>Sedentary</td>\n",
       "      <td>14</td>\n",
       "      <td>...</td>\n",
       "      <td>Medium</td>\n",
       "      <td>95</td>\n",
       "      <td>Abnormal</td>\n",
       "      <td>Atypical</td>\n",
       "      <td>120</td>\n",
       "      <td>No</td>\n",
       "      <td>92.7</td>\n",
       "      <td>498</td>\n",
       "      <td>No</td>\n",
       "      <td>73.8</td>\n",
       "    </tr>\n",
       "    <tr>\n",
       "      <th>889</th>\n",
       "      <td>31</td>\n",
       "      <td>Female</td>\n",
       "      <td>South</td>\n",
       "      <td>Urban</td>\n",
       "      <td>High</td>\n",
       "      <td>Occasionally</td>\n",
       "      <td>Never</td>\n",
       "      <td>Vegetarian</td>\n",
       "      <td>Sedentary</td>\n",
       "      <td>6</td>\n",
       "      <td>...</td>\n",
       "      <td>Medium</td>\n",
       "      <td>117</td>\n",
       "      <td>Normal</td>\n",
       "      <td>Typical</td>\n",
       "      <td>156</td>\n",
       "      <td>No</td>\n",
       "      <td>96.1</td>\n",
       "      <td>174</td>\n",
       "      <td>No</td>\n",
       "      <td>70.0</td>\n",
       "    </tr>\n",
       "    <tr>\n",
       "      <th>...</th>\n",
       "      <td>...</td>\n",
       "      <td>...</td>\n",
       "      <td>...</td>\n",
       "      <td>...</td>\n",
       "      <td>...</td>\n",
       "      <td>...</td>\n",
       "      <td>...</td>\n",
       "      <td>...</td>\n",
       "      <td>...</td>\n",
       "      <td>...</td>\n",
       "      <td>...</td>\n",
       "      <td>...</td>\n",
       "      <td>...</td>\n",
       "      <td>...</td>\n",
       "      <td>...</td>\n",
       "      <td>...</td>\n",
       "      <td>...</td>\n",
       "      <td>...</td>\n",
       "      <td>...</td>\n",
       "      <td>...</td>\n",
       "      <td>...</td>\n",
       "    </tr>\n",
       "    <tr>\n",
       "      <th>6102</th>\n",
       "      <td>27</td>\n",
       "      <td>Male</td>\n",
       "      <td>South</td>\n",
       "      <td>Urban</td>\n",
       "      <td>Low</td>\n",
       "      <td>Regularly</td>\n",
       "      <td>Never</td>\n",
       "      <td>Vegetarian</td>\n",
       "      <td>Sedentary</td>\n",
       "      <td>1</td>\n",
       "      <td>...</td>\n",
       "      <td>Medium</td>\n",
       "      <td>75</td>\n",
       "      <td>Normal</td>\n",
       "      <td>Typical</td>\n",
       "      <td>145</td>\n",
       "      <td>No</td>\n",
       "      <td>93.0</td>\n",
       "      <td>211</td>\n",
       "      <td>No</td>\n",
       "      <td>68.0</td>\n",
       "    </tr>\n",
       "    <tr>\n",
       "      <th>3905</th>\n",
       "      <td>26</td>\n",
       "      <td>Female</td>\n",
       "      <td>East</td>\n",
       "      <td>Urban</td>\n",
       "      <td>Middle</td>\n",
       "      <td>Never</td>\n",
       "      <td>Never</td>\n",
       "      <td>Vegetarian</td>\n",
       "      <td>Sedentary</td>\n",
       "      <td>14</td>\n",
       "      <td>...</td>\n",
       "      <td>High</td>\n",
       "      <td>60</td>\n",
       "      <td>Normal</td>\n",
       "      <td>Typical</td>\n",
       "      <td>131</td>\n",
       "      <td>No</td>\n",
       "      <td>93.7</td>\n",
       "      <td>349</td>\n",
       "      <td>No</td>\n",
       "      <td>29.5</td>\n",
       "    </tr>\n",
       "    <tr>\n",
       "      <th>3289</th>\n",
       "      <td>28</td>\n",
       "      <td>Male</td>\n",
       "      <td>South</td>\n",
       "      <td>Rural</td>\n",
       "      <td>Middle</td>\n",
       "      <td>Occasionally</td>\n",
       "      <td>Regularly</td>\n",
       "      <td>Vegetarian</td>\n",
       "      <td>Moderate</td>\n",
       "      <td>5</td>\n",
       "      <td>...</td>\n",
       "      <td>Medium</td>\n",
       "      <td>89</td>\n",
       "      <td>Normal</td>\n",
       "      <td>Asymptomatic</td>\n",
       "      <td>141</td>\n",
       "      <td>No</td>\n",
       "      <td>91.0</td>\n",
       "      <td>404</td>\n",
       "      <td>No</td>\n",
       "      <td>19.1</td>\n",
       "    </tr>\n",
       "    <tr>\n",
       "      <th>8449</th>\n",
       "      <td>32</td>\n",
       "      <td>Male</td>\n",
       "      <td>Central</td>\n",
       "      <td>Urban</td>\n",
       "      <td>Middle</td>\n",
       "      <td>Never</td>\n",
       "      <td>Never</td>\n",
       "      <td>Vegetarian</td>\n",
       "      <td>Sedentary</td>\n",
       "      <td>5</td>\n",
       "      <td>...</td>\n",
       "      <td>Medium</td>\n",
       "      <td>85</td>\n",
       "      <td>Normal</td>\n",
       "      <td>Typical</td>\n",
       "      <td>191</td>\n",
       "      <td>No</td>\n",
       "      <td>96.8</td>\n",
       "      <td>110</td>\n",
       "      <td>No</td>\n",
       "      <td>54.3</td>\n",
       "    </tr>\n",
       "    <tr>\n",
       "      <th>2379</th>\n",
       "      <td>34</td>\n",
       "      <td>Male</td>\n",
       "      <td>Central</td>\n",
       "      <td>Urban</td>\n",
       "      <td>Middle</td>\n",
       "      <td>Never</td>\n",
       "      <td>Occasionally</td>\n",
       "      <td>Non-Vegetarian</td>\n",
       "      <td>Sedentary</td>\n",
       "      <td>12</td>\n",
       "      <td>...</td>\n",
       "      <td>High</td>\n",
       "      <td>62</td>\n",
       "      <td>Abnormal</td>\n",
       "      <td>Typical</td>\n",
       "      <td>165</td>\n",
       "      <td>No</td>\n",
       "      <td>91.0</td>\n",
       "      <td>60</td>\n",
       "      <td>No</td>\n",
       "      <td>70.7</td>\n",
       "    </tr>\n",
       "  </tbody>\n",
       "</table>\n",
       "<p>2000 rows × 26 columns</p>\n",
       "</div>"
      ],
      "text/plain": [
       "      Age  Gender      Region Urban/Rural     SES Smoking Status  \\\n",
       "6776   26  Female     Central       Urban  Middle          Never   \n",
       "1446   32  Female        West       Urban     Low   Occasionally   \n",
       "8305   23  Female       South       Urban     Low          Never   \n",
       "4183   21  Female  North-East       Rural     Low          Never   \n",
       "889    31  Female       South       Urban    High   Occasionally   \n",
       "...   ...     ...         ...         ...     ...            ...   \n",
       "6102   27    Male       South       Urban     Low      Regularly   \n",
       "3905   26  Female        East       Urban  Middle          Never   \n",
       "3289   28    Male       South       Rural  Middle   Occasionally   \n",
       "8449   32    Male     Central       Urban  Middle          Never   \n",
       "2379   34    Male     Central       Urban  Middle          Never   \n",
       "\n",
       "     Alcohol Consumption       Diet Type Physical Activity Level  \\\n",
       "6776        Occasionally      Vegetarian               Sedentary   \n",
       "1446        Occasionally  Non-Vegetarian               Sedentary   \n",
       "8305               Never      Vegetarian               Sedentary   \n",
       "4183               Never      Vegetarian               Sedentary   \n",
       "889                Never      Vegetarian               Sedentary   \n",
       "...                  ...             ...                     ...   \n",
       "6102               Never      Vegetarian               Sedentary   \n",
       "3905               Never      Vegetarian               Sedentary   \n",
       "3289           Regularly      Vegetarian                Moderate   \n",
       "8449               Never      Vegetarian               Sedentary   \n",
       "2379        Occasionally  Non-Vegetarian               Sedentary   \n",
       "\n",
       "      Screen Time (hrs/day)  ...  Stress Level Resting Heart Rate (bpm)  \\\n",
       "6776                     11  ...          High                       73   \n",
       "1446                      1  ...          High                       87   \n",
       "8305                      9  ...           Low                       92   \n",
       "4183                     14  ...        Medium                       95   \n",
       "889                       6  ...        Medium                      117   \n",
       "...                     ...  ...           ...                      ...   \n",
       "6102                      1  ...        Medium                       75   \n",
       "3905                     14  ...          High                       60   \n",
       "3289                      5  ...        Medium                       89   \n",
       "8449                      5  ...        Medium                       85   \n",
       "2379                     12  ...          High                       62   \n",
       "\n",
       "     ECG Results Chest Pain Type  Maximum Heart Rate Achieved  \\\n",
       "6776      Normal         Typical                          145   \n",
       "1446      Normal     Non-anginal                          198   \n",
       "8305    Abnormal     Non-anginal                          151   \n",
       "4183    Abnormal        Atypical                          120   \n",
       "889       Normal         Typical                          156   \n",
       "...          ...             ...                          ...   \n",
       "6102      Normal         Typical                          145   \n",
       "3905      Normal         Typical                          131   \n",
       "3289      Normal    Asymptomatic                          141   \n",
       "8449      Normal         Typical                          191   \n",
       "2379    Abnormal         Typical                          165   \n",
       "\n",
       "      Exercise Induced Angina Blood Oxygen Levels (SpO2%)  \\\n",
       "6776                      Yes                        99.6   \n",
       "1446                       No                        98.8   \n",
       "8305                       No                        95.6   \n",
       "4183                       No                        92.7   \n",
       "889                        No                        96.1   \n",
       "...                       ...                         ...   \n",
       "6102                       No                        93.0   \n",
       "3905                       No                        93.7   \n",
       "3289                       No                        91.0   \n",
       "8449                       No                        96.8   \n",
       "2379                       No                        91.0   \n",
       "\n",
       "      Triglyceride Levels (mg/dL) Heart Attack Likelihood Pluse Pressure  \n",
       "6776                          331                      No            2.9  \n",
       "1446                          214                      No           24.2  \n",
       "8305                          364                      No           26.3  \n",
       "4183                          498                      No           73.8  \n",
       "889                           174                      No           70.0  \n",
       "...                           ...                     ...            ...  \n",
       "6102                          211                      No           68.0  \n",
       "3905                          349                      No           29.5  \n",
       "3289                          404                      No           19.1  \n",
       "8449                          110                      No           54.3  \n",
       "2379                           60                      No           70.7  \n",
       "\n",
       "[2000 rows x 26 columns]"
      ]
     },
     "execution_count": 29,
     "metadata": {},
     "output_type": "execute_result"
    }
   ],
   "source": [
    "df[df['Heart Attack Likelihood']=='No']"
   ]
  },
  {
   "cell_type": "code",
   "execution_count": 5,
   "id": "27fbbdb9",
   "metadata": {
    "scrolled": true
   },
   "outputs": [
    {
     "name": "stderr",
     "output_type": "stream",
     "text": [
      "C:\\Users\\Rohit Shere\\anaconda3\\lib\\site-packages\\seaborn\\_decorators.py:36: FutureWarning: Pass the following variable as a keyword arg: x. From version 0.12, the only valid positional argument will be `data`, and passing other arguments without an explicit keyword will result in an error or misinterpretation.\n",
      "  warnings.warn(\n"
     ]
    },
    {
     "data": {
      "image/png": "[encoded data removed]",
      "text/plain": [
       "<Figure size 640x480 with 1 Axes>"
      ]
     },
     "metadata": {},
     "output_type": "display_data"
    }
   ],
   "source": [
    "#Distribution of target class\n",
    "sns.countplot(df['Heart Attack Likelihood'])\n",
    "plt.title(\"Distribution of Heart Attack Likelihood \")\n",
    "plt.show()"
   ]
  },
  {
   "cell_type": "code",
   "execution_count": null,
   "id": "bc4976c8",
   "metadata": {},
   "outputs": [],
   "source": []
  },
  {
   "cell_type": "raw",
   "id": "665e76e8",
   "metadata": {},
   "source": [
    "#Balancing the data set using random samples from the data \n",
    "class_1df=df[df['Heart Attack Likelihood']=='Yes']\n",
    "\n",
    "for i in range(100):\n",
    "    df2=class_1df.sample(20)\n",
    "    df=pd.concat([df,df2],ignore_index=True)"
   ]
  },
  {
   "cell_type": "code",
   "execution_count": 12,
   "id": "05888efe",
   "metadata": {},
   "outputs": [
    {
     "name": "stderr",
     "output_type": "stream",
     "text": [
      "C:\\Users\\Rohit Shere\\anaconda3\\lib\\site-packages\\seaborn\\_decorators.py:36: FutureWarning: Pass the following variable as a keyword arg: x. From version 0.12, the only valid positional argument will be `data`, and passing other arguments without an explicit keyword will result in an error or misinterpretation.\n",
      "  warnings.warn(\n"
     ]
    },
    {
     "data": {
      "image/png": "[encoded data removed]",
      "text/plain": [
       "<Figure size 640x480 with 1 Axes>"
      ]
     },
     "metadata": {},
     "output_type": "display_data"
    }
   ],
   "source": [
    "#Check the distirbution now \n",
    "sns.countplot(df['Heart Attack Likelihood'])\n",
    "plt.title(\"Distribution after balancing the class\")\n",
    "plt.show()"
   ]
  },
  {
   "cell_type": "code",
   "execution_count": 14,
   "id": "f8e527c3",
   "metadata": {},
   "outputs": [
    {
     "ename": "PermissionError",
     "evalue": "[Errno 13] Permission denied: '../training_data/featured_data.csv'",
     "output_type": "error",
     "traceback": [
      "\u001b[1;31m---------------------------------------------------------------------------\u001b[0m",
      "\u001b[1;31mPermissionError\u001b[0m                           Traceback (most recent call last)",
      "\u001b[1;32m~\\AppData\\Local\\Temp\\ipykernel_18660\\2077171438.py\u001b[0m in \u001b[0;36m<module>\u001b[1;34m\u001b[0m\n\u001b[0;32m      1\u001b[0m \u001b[1;32mimport\u001b[0m \u001b[0mcsv\u001b[0m\u001b[1;33m\u001b[0m\u001b[1;33m\u001b[0m\u001b[0m\n\u001b[1;32m----> 2\u001b[1;33m \u001b[0mdf\u001b[0m\u001b[1;33m.\u001b[0m\u001b[0mto_csv\u001b[0m\u001b[1;33m(\u001b[0m\u001b[1;34m'../training_data/featured_data.csv'\u001b[0m\u001b[1;33m,\u001b[0m\u001b[0mindex\u001b[0m\u001b[1;33m=\u001b[0m\u001b[1;32mFalse\u001b[0m\u001b[1;33m)\u001b[0m\u001b[1;33m\u001b[0m\u001b[1;33m\u001b[0m\u001b[0m\n\u001b[0m",
      "\u001b[1;32m~\\anaconda3\\lib\\site-packages\\pandas\\core\\generic.py\u001b[0m in \u001b[0;36mto_csv\u001b[1;34m(self, path_or_buf, sep, na_rep, float_format, columns, header, index, index_label, mode, encoding, compression, quoting, quotechar, line_terminator, chunksize, date_format, doublequote, escapechar, decimal, errors, storage_options)\u001b[0m\n\u001b[0;32m   3549\u001b[0m         )\n\u001b[0;32m   3550\u001b[0m \u001b[1;33m\u001b[0m\u001b[0m\n\u001b[1;32m-> 3551\u001b[1;33m         return DataFrameRenderer(formatter).to_csv(\n\u001b[0m\u001b[0;32m   3552\u001b[0m             \u001b[0mpath_or_buf\u001b[0m\u001b[1;33m,\u001b[0m\u001b[1;33m\u001b[0m\u001b[1;33m\u001b[0m\u001b[0m\n\u001b[0;32m   3553\u001b[0m             \u001b[0mline_terminator\u001b[0m\u001b[1;33m=\u001b[0m\u001b[0mline_terminator\u001b[0m\u001b[1;33m,\u001b[0m\u001b[1;33m\u001b[0m\u001b[1;33m\u001b[0m\u001b[0m\n",
      "\u001b[1;32m~\\anaconda3\\lib\\site-packages\\pandas\\io\\formats\\format.py\u001b[0m in \u001b[0;36mto_csv\u001b[1;34m(self, path_or_buf, encoding, sep, columns, index_label, mode, compression, quoting, quotechar, line_terminator, chunksize, date_format, doublequote, escapechar, errors, storage_options)\u001b[0m\n\u001b[0;32m   1178\u001b[0m             \u001b[0mformatter\u001b[0m\u001b[1;33m=\u001b[0m\u001b[0mself\u001b[0m\u001b[1;33m.\u001b[0m\u001b[0mfmt\u001b[0m\u001b[1;33m,\u001b[0m\u001b[1;33m\u001b[0m\u001b[1;33m\u001b[0m\u001b[0m\n\u001b[0;32m   1179\u001b[0m         )\n\u001b[1;32m-> 1180\u001b[1;33m         \u001b[0mcsv_formatter\u001b[0m\u001b[1;33m.\u001b[0m\u001b[0msave\u001b[0m\u001b[1;33m(\u001b[0m\u001b[1;33m)\u001b[0m\u001b[1;33m\u001b[0m\u001b[1;33m\u001b[0m\u001b[0m\n\u001b[0m\u001b[0;32m   1181\u001b[0m \u001b[1;33m\u001b[0m\u001b[0m\n\u001b[0;32m   1182\u001b[0m         \u001b[1;32mif\u001b[0m \u001b[0mcreated_buffer\u001b[0m\u001b[1;33m:\u001b[0m\u001b[1;33m\u001b[0m\u001b[1;33m\u001b[0m\u001b[0m\n",
      "\u001b[1;32m~\\anaconda3\\lib\\site-packages\\pandas\\io\\formats\\csvs.py\u001b[0m in \u001b[0;36msave\u001b[1;34m(self)\u001b[0m\n\u001b[0;32m    239\u001b[0m         \"\"\"\n\u001b[0;32m    240\u001b[0m         \u001b[1;31m# apply compression and byte/text conversion\u001b[0m\u001b[1;33m\u001b[0m\u001b[1;33m\u001b[0m\u001b[0m\n\u001b[1;32m--> 241\u001b[1;33m         with get_handle(\n\u001b[0m\u001b[0;32m    242\u001b[0m             \u001b[0mself\u001b[0m\u001b[1;33m.\u001b[0m\u001b[0mfilepath_or_buffer\u001b[0m\u001b[1;33m,\u001b[0m\u001b[1;33m\u001b[0m\u001b[1;33m\u001b[0m\u001b[0m\n\u001b[0;32m    243\u001b[0m             \u001b[0mself\u001b[0m\u001b[1;33m.\u001b[0m\u001b[0mmode\u001b[0m\u001b[1;33m,\u001b[0m\u001b[1;33m\u001b[0m\u001b[1;33m\u001b[0m\u001b[0m\n",
      "\u001b[1;32m~\\anaconda3\\lib\\site-packages\\pandas\\io\\common.py\u001b[0m in \u001b[0;36mget_handle\u001b[1;34m(path_or_buf, mode, encoding, compression, memory_map, is_text, errors, storage_options)\u001b[0m\n\u001b[0;32m    784\u001b[0m         \u001b[1;32mif\u001b[0m \u001b[0mioargs\u001b[0m\u001b[1;33m.\u001b[0m\u001b[0mencoding\u001b[0m \u001b[1;32mand\u001b[0m \u001b[1;34m\"b\"\u001b[0m \u001b[1;32mnot\u001b[0m \u001b[1;32min\u001b[0m \u001b[0mioargs\u001b[0m\u001b[1;33m.\u001b[0m\u001b[0mmode\u001b[0m\u001b[1;33m:\u001b[0m\u001b[1;33m\u001b[0m\u001b[1;33m\u001b[0m\u001b[0m\n\u001b[0;32m    785\u001b[0m             \u001b[1;31m# Encoding\u001b[0m\u001b[1;33m\u001b[0m\u001b[1;33m\u001b[0m\u001b[0m\n\u001b[1;32m--> 786\u001b[1;33m             handle = open(\n\u001b[0m\u001b[0;32m    787\u001b[0m                 \u001b[0mhandle\u001b[0m\u001b[1;33m,\u001b[0m\u001b[1;33m\u001b[0m\u001b[1;33m\u001b[0m\u001b[0m\n\u001b[0;32m    788\u001b[0m                 \u001b[0mioargs\u001b[0m\u001b[1;33m.\u001b[0m\u001b[0mmode\u001b[0m\u001b[1;33m,\u001b[0m\u001b[1;33m\u001b[0m\u001b[1;33m\u001b[0m\u001b[0m\n",
      "\u001b[1;31mPermissionError\u001b[0m: [Errno 13] Permission denied: '../training_data/featured_data.csv'"
     ]
    }
   ],
   "source": [
    "import csv\n",
    "df.to_csv('../training_data/featured_data.csv',index=False)"
   ]
  },
  {
   "cell_type": "code",
   "execution_count": 6,
   "id": "ed83acf7",
   "metadata": {},
   "outputs": [],
   "source": [
    "#SLplitting the data\n",
    "X=df.drop(\"Heart Attack Likelihood\",axis=1)\n",
    "y=df['Heart Attack Likelihood']"
   ]
  },
  {
   "cell_type": "code",
   "execution_count": 44,
   "id": "336fafc4",
   "metadata": {},
   "outputs": [
    {
     "data": {
      "text/plain": [
       "Index(['Age', 'Gender', 'Region', 'Urban/Rural', 'SES', 'Smoking Status',\n",
       "       'Alcohol Consumption', 'Diet Type', 'Physical Activity Level',\n",
       "       'Screen Time (hrs/day)', 'Sleep Duration (hrs/day)',\n",
       "       'Family History of Heart Disease', 'Diabetes', 'Hypertension',\n",
       "       'Cholesterol Levels (mg/dL)', 'BMI (kg/m²)', 'Stress Level',\n",
       "       'Resting Heart Rate (bpm)', 'ECG Results', 'Chest Pain Type',\n",
       "       'Maximum Heart Rate Achieved', 'Exercise Induced Angina',\n",
       "       'Blood Oxygen Levels (SpO2%)', 'Triglyceride Levels (mg/dL)',\n",
       "       'Pluse Pressure'],\n",
       "      dtype='object')"
      ]
     },
     "execution_count": 44,
     "metadata": {},
     "output_type": "execute_result"
    }
   ],
   "source": [
    "X.columns"
   ]
  },
  {
   "cell_type": "code",
   "execution_count": 45,
   "id": "eb3bce04",
   "metadata": {},
   "outputs": [],
   "source": [
    "X_train, X_test,y_train ,y_test=train_test_split(X,y,test_size=0.3,random_state=3)"
   ]
  },
  {
   "cell_type": "code",
   "execution_count": 32,
   "id": "2d6cf286",
   "metadata": {},
   "outputs": [
    {
     "name": "stdout",
     "output_type": "stream",
     "text": [
      "Model Accuracy: 0.49133663366336633\n",
      "              precision    recall  f1-score   support\n",
      "\n",
      "          No       0.49      0.51      0.50       400\n",
      "         Yes       0.50      0.48      0.49       408\n",
      "\n",
      "    accuracy                           0.49       808\n",
      "   macro avg       0.49      0.49      0.49       808\n",
      "weighted avg       0.49      0.49      0.49       808\n",
      "\n"
     ]
    }
   ],
   "source": [
    "# 🔹 Define Feature Types\n",
    "numerical_features = ['Age',\n",
    " 'Screen Time (hrs/day)',\n",
    " 'Sleep Duration (hrs/day)',\n",
    " 'Cholesterol Levels (mg/dL)',\n",
    " 'BMI (kg/m²)',\n",
    " 'Resting Heart Rate (bpm)',\n",
    " 'Maximum Heart Rate Achieved',\n",
    " 'Blood Oxygen Levels (SpO2%)',\n",
    " 'Triglyceride Levels (mg/dL)',\n",
    " 'Pluse Pressure']\n",
    "\n",
    "ordinal_features = {\n",
    "    \"Chest Pain Type\": [\"Asymptomatic\", \"Non-anginal\", \"Atypical\", \"Typical\"],# Ordered by severity\n",
    "    \"Smoking Status\":['Never','Occasionally','Regularly'],\n",
    "    'Alcohol Consumption':['Never','Occasionally','Regularly'],\n",
    "    \"Physical Activity Level\": [\"Sedentary\", \"Moderate\", \"High\"],  # Increasing activity\n",
    "    \"SES\": [\"Low\", \"Middle\", \"High\"],  # Socioeconomic status\n",
    "    \"Stress Level\":['Low','Medium','High']\n",
    "    \n",
    "}\n",
    "\n",
    "categorical_features = ['Gender', 'Region', 'Urban/Rural', 'SES', 'Smoking Status',\n",
    "       'Alcohol Consumption', 'Diet Type', 'Physical Activity Level',\n",
    "       'Family History of Heart Disease', 'Diabetes', 'Hypertension',\n",
    "       'Stress Level', 'ECG Results', 'Chest Pain Type',\n",
    "       'Exercise Induced Angina']\n",
    "\n",
    "# 🔹 Define Transformers\n",
    "ordinal_transformers = [(col, OrdinalEncoder(categories=[categories]), [col]) for col, categories in ordinal_features.items()]\n",
    "one_hot_transformer = ('onehot', OneHotEncoder(handle_unknown='ignore'), categorical_features)\n",
    "scaler_transformer = ('scaler', StandardScaler(), numerical_features)\n",
    "\n",
    "# 🔹 Combine into ColumnTransformer\n",
    "preprocessor = ColumnTransformer(ordinal_transformers +[one_hot_transformer,scaler_transformer] )\n",
    "\n",
    "# 🔹 Define Pipeline\n",
    "model_pipeline = Pipeline([\n",
    "    ('preprocessor', preprocessor),\n",
    "    ('classifier', RandomForestClassifier (100))  # Change model here if needed\n",
    "])\n",
    "\n",
    "#🔹 Split Dataset\n",
    "X = df.drop(columns=['Heart Attack Likelihood'])  # Features\n",
    "y = df['Heart Attack Likelihood']# Target variable\n",
    "# y=y.replace(['No','Yes'],[0,1])\n",
    "\n",
    "X_train, X_test, y_train, y_test = train_test_split(X, y, test_size=0.2, random_state=42, stratify=y)\n",
    "\n",
    "# 🔹 Train Model\n",
    "model_pipeline.fit(X_train, y_train)\n",
    "\n",
    "# 🔹 Predictions\n",
    "y_pred = model_pipeline.predict(X_test)\n",
    "\n",
    "# 🔹 Evaluate Model\n",
    "print(\"Model Accuracy:\", accuracy_score(y_test, y_pred))\n",
    "print(classification_report(y_test, y_pred))\n"
   ]
  },
  {
   "cell_type": "code",
   "execution_count": 33,
   "id": "111f3b5f",
   "metadata": {},
   "outputs": [],
   "source": [
    "#model with same distribution of traget classes\n",
    "import pickle\n",
    "\n",
    "# Save the model\n",
    "with open(\"../models/model_rm.pkl\", \"wb\") as file:\n",
    "    pickle.dump(model_pipeline, file)\n",
    "\n"
   ]
  },
  {
   "cell_type": "code",
   "execution_count": 48,
   "id": "a8b74e1b",
   "metadata": {},
   "outputs": [],
   "source": [
    "import json\n",
    "import joblib\n",
    "pipeline=model_pipeline\n",
    "# Save pipeline separately\n",
    "joblib.dump(pipeline[:-1], \"./models/transformers.pkl\")  # Save everything except the model\n",
    "\n",
    "# Save model hyperparameters as JSON\n",
    "model_params = pipeline[-1].get_params()\n",
    "with open(\"./models/model_params.json\", \"w\") as f:\n",
    "    json.dump(model_params, f)\n"
   ]
  },
  {
   "cell_type": "code",
   "execution_count": 15,
   "id": "3a986b01",
   "metadata": {},
   "outputs": [],
   "source": [
    "X_t=preprocessor.fit_transform(X)\n"
   ]
  },
  {
   "cell_type": "code",
   "execution_count": 16,
   "id": "eb8b1524",
   "metadata": {},
   "outputs": [],
   "source": [
    "y_t=y.replace(['No','Yes'],[0,1])"
   ]
  },
  {
   "cell_type": "code",
   "execution_count": 17,
   "id": "5257a5d8",
   "metadata": {},
   "outputs": [],
   "source": [
    "rf=RandomForestClassifier()\n",
    "model=rf.fit(X,y)"
   ]
  },
  {
   "cell_type": "code",
   "execution_count": 18,
   "id": "f9d2c33c",
   "metadata": {},
   "outputs": [
    {
     "data": {
      "text/plain": [
       "RandomForestClassifier()"
      ]
     },
     "execution_count": 18,
     "metadata": {},
     "output_type": "execute_result"
    }
   ],
   "source": [
    "model"
   ]
  },
  {
   "cell_type": "code",
   "execution_count": 19,
   "id": "596ff20b",
   "metadata": {},
   "outputs": [
    {
     "data": {
      "text/plain": [
       "array([0, 1], dtype=int64)"
      ]
     },
     "execution_count": 19,
     "metadata": {},
     "output_type": "execute_result"
    }
   ],
   "source": [
    "model.classes_\n"
   ]
  },
  {
   "cell_type": "code",
   "execution_count": 20,
   "id": "d57e6f59",
   "metadata": {},
   "outputs": [
    {
     "data": {
      "text/plain": [
       "['./models/preprecessor2.pkl']"
      ]
     },
     "execution_count": 20,
     "metadata": {},
     "output_type": "execute_result"
    }
   ],
   "source": [
    "import joblib\n",
    "joblib.dump(preprocessor,'./models/preprecessor2.pkl')"
   ]
  },
  {
   "cell_type": "code",
   "execution_count": 22,
   "id": "2c3d33d5",
   "metadata": {},
   "outputs": [
    {
     "data": {
      "text/plain": [
       "['./models/model_a.pkl']"
      ]
     },
     "execution_count": 22,
     "metadata": {},
     "output_type": "execute_result"
    }
   ],
   "source": [
    "joblib.dump(model,'./models/model_a.pkl')"
   ]
  },
  {
   "cell_type": "code",
   "execution_count": null,
   "id": "e53c3734",
   "metadata": {},
   "outputs": [],
   "source": []
  }
 ],
 "metadata": {
  "kernelspec": {
   "display_name": "Python 3 (ipykernel)",
   "language": "python",
   "name": "python3"
  },
  "language_info": {
   "codemirror_mode": {
    "name": "ipython",
    "version": 3
   },
   "file_extension": ".py",
   "mimetype": "text/x-python",
   "name": "python",
   "nbconvert_exporter": "python",
   "pygments_lexer": "ipython3",
   "version": "3.9.13"
  }
 },
 "nbformat": 4,
 "nbformat_minor": 5
}
